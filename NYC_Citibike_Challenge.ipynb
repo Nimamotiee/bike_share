{
 "cells": [
  {
   "cell_type": "code",
   "execution_count": null,
   "id": "47917fb5",
   "metadata": {},
   "outputs": [],
   "source": [
    "import pandas as pd"
   ]
  },
  {
   "cell_type": "code",
   "execution_count": null,
   "id": "564754a9",
   "metadata": {},
   "outputs": [],
   "source": [
    "# 1. Create a DataFrame for the 201908-citibike-tripdata data. \n",
    "citibike_data = \"201908-citibike-tripdata.csv\"\n",
    "citibike_df = pd.read_csv(citibike_data)"
   ]
  },
  {
   "cell_type": "code",
   "execution_count": null,
   "id": "148876b8",
   "metadata": {},
   "outputs": [],
   "source": [
    "citibike_df.head()"
   ]
  },
  {
   "cell_type": "code",
   "execution_count": null,
   "id": "7e09c5eb",
   "metadata": {},
   "outputs": [],
   "source": [
    "# 2. Check the datatypes of your columns. \n",
    "citibike_df.info()"
   ]
  },
  {
   "cell_type": "code",
   "execution_count": null,
   "id": "93a61767",
   "metadata": {},
   "outputs": [],
   "source": [
    "# 3. Convert the 'tripduration' column to datetime datatype.\n",
    "citibike_df['tripdur_orig'] = citibike_df['tripduration']\n",
    "citibike_df['tripduration'] = pd.to_datetime(citibike_df['tripduration'], unit='m')\n",
    "citibike_df.head()"
   ]
  },
  {
   "cell_type": "code",
   "execution_count": null,
   "id": "1a1367c4",
   "metadata": {},
   "outputs": [],
   "source": [
    "# 4. Check the datatypes of your columns. \n",
    "citibike_df.info()"
   ]
  },
  {
   "cell_type": "code",
   "execution_count": null,
   "id": "f4786f33",
   "metadata": {},
   "outputs": [],
   "source": [
    "# 5. Export the Dataframe as a new CSV file without the index.\n",
    "citibike_df.to_csv('citibike_201908_updt.csv', index=False)"
   ]
  },
  {
   "cell_type": "code",
   "execution_count": null,
   "id": "4210f6df",
   "metadata": {},
   "outputs": [],
   "source": []
  }
 ],
 "metadata": {
  "kernelspec": {
   "display_name": "PythonData",
   "language": "python",
   "name": "pythondata"
  },
  "language_info": {
   "codemirror_mode": {
    "name": "ipython",
    "version": 3
   },
   "file_extension": ".py",
   "mimetype": "text/x-python",
   "name": "python",
   "nbconvert_exporter": "python",
   "pygments_lexer": "ipython3",
   "version": "3.7.10"
  }
 },
 "nbformat": 4,
 "nbformat_minor": 5
}
